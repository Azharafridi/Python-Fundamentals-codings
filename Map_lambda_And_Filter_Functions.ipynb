{
 "cells": [
  {
   "cell_type": "markdown",
   "id": "bb34ebad",
   "metadata": {},
   "source": [
    "#### Map Function in python\n"
   ]
  },
  {
   "cell_type": "code",
   "execution_count": 1,
   "id": "439e3fe9",
   "metadata": {},
   "outputs": [],
   "source": [
    "def even_or_odd(num):\n",
    "    if num%2 == 0:\n",
    "        return \"the number {} is even\".format(num)\n",
    "    else:\n",
    "        return \" the number {} is even\".format(num)\n",
    "    "
   ]
  },
  {
   "cell_type": "code",
   "execution_count": 2,
   "id": "a2e7bd54",
   "metadata": {},
   "outputs": [
    {
     "data": {
      "text/plain": [
       "'the number 24 is even'"
      ]
     },
     "execution_count": 2,
     "metadata": {},
     "output_type": "execute_result"
    }
   ],
   "source": [
    "even_or_odd(24)"
   ]
  },
  {
   "cell_type": "code",
   "execution_count": 3,
   "id": "56860d07",
   "metadata": {},
   "outputs": [],
   "source": [
    "lst = [1,2,3,4,5,6,7,8,12,31]"
   ]
  },
  {
   "cell_type": "code",
   "execution_count": 5,
   "id": "d7395e97",
   "metadata": {},
   "outputs": [
    {
     "data": {
      "text/plain": [
       "[' the number 1 is even',\n",
       " 'the number 2 is even',\n",
       " ' the number 3 is even',\n",
       " 'the number 4 is even',\n",
       " ' the number 5 is even',\n",
       " 'the number 6 is even',\n",
       " ' the number 7 is even',\n",
       " 'the number 8 is even',\n",
       " 'the number 12 is even',\n",
       " ' the number 31 is even']"
      ]
     },
     "execution_count": 5,
     "metadata": {},
     "output_type": "execute_result"
    }
   ],
   "source": [
    "# instead of writting a for loop and going through all the elements just use the map function\n",
    "# it will figure out all the even and odd elements.\n",
    "\n",
    "list(map(even_or_odd, lst))"
   ]
  },
  {
   "cell_type": "markdown",
   "id": "0aaf3cf5",
   "metadata": {},
   "source": [
    "#### Lambda function\n",
    "anonymous function.\n",
    "a functoin with no name"
   ]
  },
  {
   "cell_type": "code",
   "execution_count": 9,
   "id": "d4053614",
   "metadata": {},
   "outputs": [],
   "source": [
    "def addition(a,b):\n",
    "    return a+b"
   ]
  },
  {
   "cell_type": "code",
   "execution_count": 10,
   "id": "5dfeaa54",
   "metadata": {},
   "outputs": [
    {
     "data": {
      "text/plain": [
       "9"
      ]
     },
     "execution_count": 10,
     "metadata": {},
     "output_type": "execute_result"
    }
   ],
   "source": [
    "addition(4,5)"
   ]
  },
  {
   "cell_type": "code",
   "execution_count": null,
   "id": "bc4085c2",
   "metadata": {},
   "outputs": [],
   "source": [
    "# for the function to be only one line of code like above only one expression is there\n",
    "# so we use lambda function. we will use lambda keyword so that to convert the above function into lambda function\n"
   ]
  },
  {
   "cell_type": "code",
   "execution_count": 11,
   "id": "642940aa",
   "metadata": {},
   "outputs": [],
   "source": [
    "addition = lambda a,b: a+b\n",
    "# on the left side of colon a and b are parameter and on the right side\n",
    "# a+b is the expression to execute it\n"
   ]
  },
  {
   "cell_type": "code",
   "execution_count": 12,
   "id": "964bce77",
   "metadata": {},
   "outputs": [
    {
     "data": {
      "text/plain": [
       "66"
      ]
     },
     "execution_count": 12,
     "metadata": {},
     "output_type": "execute_result"
    }
   ],
   "source": [
    "addition(12,54)"
   ]
  },
  {
   "cell_type": "code",
   "execution_count": 13,
   "id": "bc1c4d9b",
   "metadata": {},
   "outputs": [],
   "source": [
    "# testing a number whether even or not\n",
    "def even(num):\n",
    "    if num % 2 ==0:\n",
    "        return True\n",
    "    \n",
    "        "
   ]
  },
  {
   "cell_type": "code",
   "execution_count": 14,
   "id": "36e7ffdd",
   "metadata": {},
   "outputs": [
    {
     "data": {
      "text/plain": [
       "True"
      ]
     },
     "execution_count": 14,
     "metadata": {},
     "output_type": "execute_result"
    }
   ],
   "source": [
    "even(8)"
   ]
  },
  {
   "cell_type": "code",
   "execution_count": 17,
   "id": "930613b6",
   "metadata": {},
   "outputs": [],
   "source": [
    "# converting into lambda functions\n",
    "Even = lambda a:a % 2 == 0\n"
   ]
  },
  {
   "cell_type": "code",
   "execution_count": 21,
   "id": "40f6e45b",
   "metadata": {},
   "outputs": [
    {
     "data": {
      "text/plain": [
       "True"
      ]
     },
     "execution_count": 21,
     "metadata": {},
     "output_type": "execute_result"
    }
   ],
   "source": [
    "Even(32)"
   ]
  },
  {
   "cell_type": "code",
   "execution_count": 23,
   "id": "605cc70d",
   "metadata": {},
   "outputs": [],
   "source": [
    "# using three parameter funtion\n",
    "\n",
    "def addition(a,b,c):\n",
    "    return a+b+c\n"
   ]
  },
  {
   "cell_type": "code",
   "execution_count": 24,
   "id": "ac492f4f",
   "metadata": {},
   "outputs": [
    {
     "data": {
      "text/plain": [
       "12"
      ]
     },
     "execution_count": 24,
     "metadata": {},
     "output_type": "execute_result"
    }
   ],
   "source": [
    "addition(5,4,3)"
   ]
  },
  {
   "cell_type": "code",
   "execution_count": 25,
   "id": "74665512",
   "metadata": {},
   "outputs": [],
   "source": [
    "# converting into lambda function\n",
    "Addition = lambda a,b,c: a+b+c # lambda is the keyword for lambda function"
   ]
  },
  {
   "cell_type": "code",
   "execution_count": 26,
   "id": "6e7ba0ae",
   "metadata": {},
   "outputs": [
    {
     "data": {
      "text/plain": [
       "123"
      ]
     },
     "execution_count": 26,
     "metadata": {},
     "output_type": "execute_result"
    }
   ],
   "source": [
    "Addition(12,45,66)"
   ]
  },
  {
   "cell_type": "markdown",
   "id": "7bf70169",
   "metadata": {},
   "source": [
    "### Filter Function in Python"
   ]
  },
  {
   "cell_type": "code",
   "execution_count": 28,
   "id": "3fabb073",
   "metadata": {},
   "outputs": [],
   "source": [
    "def even(num):\n",
    "    if num % 2 == 0:\n",
    "        return True\n",
    "    "
   ]
  },
  {
   "cell_type": "code",
   "execution_count": 29,
   "id": "eae34f92",
   "metadata": {},
   "outputs": [],
   "source": [
    "lst = [1,2,3,4,5,6,7,8,9,0]\n"
   ]
  },
  {
   "cell_type": "code",
   "execution_count": 30,
   "id": "dedd1776",
   "metadata": {},
   "outputs": [
    {
     "data": {
      "text/plain": [
       "[2, 4, 6, 8, 0]"
      ]
     },
     "execution_count": 30,
     "metadata": {},
     "output_type": "execute_result"
    }
   ],
   "source": [
    "# here the filter funciton in used. so it will filter out all the even numbers from the list\n",
    "# and will return it. first parameter = function name, 2nd parameter = lst\n",
    "\n",
    "list(filter(even,lst))"
   ]
  },
  {
   "cell_type": "code",
   "execution_count": 33,
   "id": "5790c632",
   "metadata": {},
   "outputs": [
    {
     "data": {
      "text/plain": [
       "[2, 4, 6, 8, 0]"
      ]
     },
     "execution_count": 33,
     "metadata": {},
     "output_type": "execute_result"
    }
   ],
   "source": [
    "# now using filter function and converting the above function into \n",
    "# lambda function will filter only the even numnbers\n",
    "\n",
    "list(filter(lambda num:num % 2 == 0, lst))"
   ]
  },
  {
   "cell_type": "code",
   "execution_count": 34,
   "id": "91997d6d",
   "metadata": {},
   "outputs": [
    {
     "data": {
      "text/plain": [
       "[False, True, False, True, False, True, False, True, False, True]"
      ]
     },
     "execution_count": 34,
     "metadata": {},
     "output_type": "execute_result"
    }
   ],
   "source": [
    "# now using map function on the above lambda function will give us\n",
    "# all the valuse whether false or true mean false for not even and true for even\n",
    "list(map(lambda num:num % 2 == 0, lst))"
   ]
  },
  {
   "cell_type": "code",
   "execution_count": null,
   "id": "2129f53e",
   "metadata": {},
   "outputs": [],
   "source": []
  },
  {
   "cell_type": "code",
   "execution_count": null,
   "id": "83399f32",
   "metadata": {},
   "outputs": [],
   "source": []
  },
  {
   "cell_type": "code",
   "execution_count": null,
   "id": "09e9e44c",
   "metadata": {},
   "outputs": [],
   "source": []
  },
  {
   "cell_type": "code",
   "execution_count": null,
   "id": "83b662e4",
   "metadata": {},
   "outputs": [],
   "source": []
  }
 ],
 "metadata": {
  "kernelspec": {
   "display_name": "Python 3 (ipykernel)",
   "language": "python",
   "name": "python3"
  },
  "language_info": {
   "codemirror_mode": {
    "name": "ipython",
    "version": 3
   },
   "file_extension": ".py",
   "mimetype": "text/x-python",
   "name": "python",
   "nbconvert_exporter": "python",
   "pygments_lexer": "ipython3",
   "version": "3.10.9"
  }
 },
 "nbformat": 4,
 "nbformat_minor": 5
}
