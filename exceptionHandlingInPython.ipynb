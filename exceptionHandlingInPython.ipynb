{
 "cells": [
  {
   "cell_type": "markdown",
   "id": "b413a08e",
   "metadata": {},
   "source": [
    "## Python Exception Handling\n",
    "we can use these thing in a sceniorion like if a database opening request is done and and exceptoin may occure while getting some data from the data base. so it will not close the database in the excption region. but will close it in the finally block. This is the basic example and appliction of try and except."
   ]
  },
  {
   "cell_type": "code",
   "execution_count": 4,
   "id": "7585aa50",
   "metadata": {},
   "outputs": [
    {
     "name": "stdout",
     "output_type": "stream",
     "text": [
      "name 'b' is not defined\n"
     ]
    }
   ],
   "source": [
    "try:\n",
    "    ## code block where exception can occur\n",
    "    a = b\n",
    "except Exception as ex:\n",
    "    # we write some message\n",
    "    print(ex)\n",
    "    "
   ]
  },
  {
   "cell_type": "code",
   "execution_count": 5,
   "id": "6ad27ac4",
   "metadata": {},
   "outputs": [
    {
     "name": "stdout",
     "output_type": "stream",
     "text": [
      "the user have not defined the variable\n"
     ]
    }
   ],
   "source": [
    "# for handling above exception we can provide our own customize message inside the excep\n",
    "try:\n",
    "    ## code block where exception can occur\n",
    "    a = b\n",
    "except NameError as ex1:\n",
    "    print(\"the user have not defined the variable\")\n",
    "except Exception as ex: # this exception cannot be written at the top. it will be written in last\n",
    "    # we write some message\n",
    "    print(ex)\n",
    "    \n"
   ]
  },
  {
   "cell_type": "code",
   "execution_count": 10,
   "id": "43e655c4",
   "metadata": {},
   "outputs": [
    {
     "name": "stdout",
     "output_type": "stream",
     "text": [
      "Enter the number 1 : 12\n",
      "Enter the number 2 : 3\n",
      "15\n",
      "4.0\n",
      "36\n"
     ]
    }
   ],
   "source": [
    "# try else\n",
    "# whenever the exception is occured then the else portion will not be executed\n",
    "\n",
    "try:\n",
    "    ## code block where exception can occur\n",
    "    a = int(input(\"Enter the number 1 : \"))\n",
    "    b = int(input(\"Enter the number 2 : \"))\n",
    "    c = a+b\n",
    "    d = a/b #\n",
    "    e = a*b\n",
    "\n",
    "except NameError:\n",
    "    print(\"the user have not defined the variable\")\n",
    "except ZeroDivisionError:\n",
    "    print(\"Please provide number other than 0\")\n",
    "except TypeError:\n",
    "    print(\"Try to make the datatype similar\")\n",
    "\n",
    "# generic exception error    \n",
    "except Exception as ex: # this exception cannot be written at the top. it will be written in last\n",
    "    # we write some message\n",
    "    print(ex)\n",
    "else:\n",
    "    print(c)\n",
    "    print(d)\n",
    "    print(e)\n",
    "    \n",
    "    \n"
   ]
  },
  {
   "cell_type": "code",
   "execution_count": 11,
   "id": "c0538f79",
   "metadata": {},
   "outputs": [
    {
     "name": "stdout",
     "output_type": "stream",
     "text": [
      "Enter the number 1 : 12\n",
      "Enter the number 2 : 0\n",
      "Please provide number other than 0\n",
      "the execution in done\n"
     ]
    }
   ],
   "source": [
    "# try else and finally\n",
    "# the finally block will always be executed even if exception occure\n",
    "\n",
    "\n",
    "\n",
    "try:\n",
    "    ## code block where exception can occur\n",
    "    a = int(input(\"Enter the number 1 : \"))\n",
    "    b = int(input(\"Enter the number 2 : \"))\n",
    "    d = a/b \n",
    "\n",
    "except NameError:\n",
    "    print(\"the user have not defined the variable\")\n",
    "except ZeroDivisionError:\n",
    "    print(\"Please provide number other than 0\")\n",
    "except TypeError:\n",
    "    print(\"Try to make the datatype similar\")\n",
    "\n",
    "# generic exception error    \n",
    "except Exception as ex: # this exception cannot be written at the top. it will be written in last\n",
    "    # we write some message\n",
    "    print(ex)\n",
    "else:\n",
    "    print(c)\n",
    "finally:\n",
    "    print(\"the execution in done\")\n",
    "    \n",
    "    \n",
    "\n"
   ]
  },
  {
   "cell_type": "markdown",
   "id": "dae7c5a1",
   "metadata": {},
   "source": [
    "### custom Exception"
   ]
  },
  {
   "cell_type": "code",
   "execution_count": 15,
   "id": "f1e2196c",
   "metadata": {},
   "outputs": [],
   "source": [
    "class Error(Exception):\n",
    "    pass\n",
    "\n",
    "class dobException(Error):\n",
    "    pass\n",
    "\n",
    "class customgeneric(Error):\n",
    "    pass\n"
   ]
  },
  {
   "cell_type": "code",
   "execution_count": 16,
   "id": "04add574",
   "metadata": {},
   "outputs": [
    {
     "name": "stdout",
     "output_type": "stream",
     "text": [
      "Enter the year of Birth : 2005\n"
     ]
    },
    {
     "ename": "NameError",
     "evalue": "name 'dobExeption' is not defined",
     "output_type": "error",
     "traceback": [
      "\u001b[1;31m---------------------------------------------------------------------------\u001b[0m",
      "\u001b[1;31mdobException\u001b[0m                              Traceback (most recent call last)",
      "Cell \u001b[1;32mIn[16], line 7\u001b[0m\n\u001b[0;32m      6\u001b[0m     \u001b[38;5;28;01melse\u001b[39;00m:\n\u001b[1;32m----> 7\u001b[0m         \u001b[38;5;28;01mraise\u001b[39;00m dobException\n\u001b[0;32m      8\u001b[0m \u001b[38;5;28;01mexcept\u001b[39;00m dobExeption:\n",
      "\u001b[1;31mdobException\u001b[0m: ",
      "\nDuring handling of the above exception, another exception occurred:\n",
      "\u001b[1;31mNameError\u001b[0m                                 Traceback (most recent call last)",
      "Cell \u001b[1;32mIn[16], line 8\u001b[0m\n\u001b[0;32m      6\u001b[0m     \u001b[38;5;28;01melse\u001b[39;00m:\n\u001b[0;32m      7\u001b[0m         \u001b[38;5;28;01mraise\u001b[39;00m dobException\n\u001b[1;32m----> 8\u001b[0m \u001b[38;5;28;01mexcept\u001b[39;00m \u001b[43mdobExeption\u001b[49m:\n\u001b[0;32m      9\u001b[0m     \u001b[38;5;28mprint\u001b[39m(\u001b[38;5;124m\"\u001b[39m\u001b[38;5;124mThe year age is not wihin the range. You can apply for the exams\u001b[39m\u001b[38;5;124m\"\u001b[39m)\n",
      "\u001b[1;31mNameError\u001b[0m: name 'dobExeption' is not defined"
     ]
    }
   ],
   "source": [
    "years = int(input(\"Enter the year of Birth : \"))\n",
    "age = 2023 - years\n",
    "try:\n",
    "    if age<= 30 and age > 20:\n",
    "        print(\"The age is valid. You can apply for the exams\")\n",
    "    else:\n",
    "        raise dobException\n",
    "except dobExeption:\n",
    "    print(\"The year age is not wihin the range. You can apply for the exams\")\n",
    "    "
   ]
  },
  {
   "cell_type": "code",
   "execution_count": null,
   "id": "6c591b4a",
   "metadata": {},
   "outputs": [],
   "source": []
  },
  {
   "cell_type": "code",
   "execution_count": null,
   "id": "33a6385e",
   "metadata": {},
   "outputs": [],
   "source": []
  },
  {
   "cell_type": "code",
   "execution_count": null,
   "id": "c39fca8c",
   "metadata": {},
   "outputs": [],
   "source": []
  }
 ],
 "metadata": {
  "kernelspec": {
   "display_name": "Python 3 (ipykernel)",
   "language": "python",
   "name": "python3"
  },
  "language_info": {
   "codemirror_mode": {
    "name": "ipython",
    "version": 3
   },
   "file_extension": ".py",
   "mimetype": "text/x-python",
   "name": "python",
   "nbconvert_exporter": "python",
   "pygments_lexer": "ipython3",
   "version": "3.10.9"
  }
 },
 "nbformat": 4,
 "nbformat_minor": 5
}
